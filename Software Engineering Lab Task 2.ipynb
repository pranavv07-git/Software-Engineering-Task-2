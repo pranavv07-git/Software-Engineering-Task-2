{
  "nbformat": 4,
  "nbformat_minor": 0,
  "metadata": {
    "colab": {
      "provenance": [],
      "authorship_tag": "ABX9TyNvFmpElofHsgWL2S9szYTu",
      "include_colab_link": true
    },
    "kernelspec": {
      "name": "python3",
      "display_name": "Python 3"
    },
    "language_info": {
      "name": "python"
    }
  },
  "cells": [
    {
      "cell_type": "markdown",
      "metadata": {
        "id": "view-in-github",
        "colab_type": "text"
      },
      "source": [
        "<a href=\"https://colab.research.google.com/github/pranavv07-git/Software-Engineering-Task-2/blob/main/Software%20Engineering%20Lab%20Task%202.ipynb\" target=\"_parent\"><img src=\"https://colab.research.google.com/assets/colab-badge.svg\" alt=\"Open In Colab\"/></a>"
      ]
    },
    {
      "cell_type": "code",
      "execution_count": null,
      "metadata": {
        "colab": {
          "base_uri": "https://localhost:8080/"
        },
        "id": "3ahU_PJsicS_",
        "outputId": "c551b711-0be9-451d-f7e3-8a57a33d609d"
      },
      "outputs": [
        {
          "output_type": "stream",
          "name": "stdout",
          "text": [
            "Hardcoded Multiplication: 10.5 * 5.2 = 54.6\n"
          ]
        }
      ],
      "source": [
        "#1.\tHardcoded Variables Program\n",
        "\n",
        "length = 10.5\n",
        "width = 5.2\n",
        "result = length * width\n",
        "\n",
        "print(f\"Hardcoded Multiplication: {length} * {width} = {result}\")"
      ]
    },
    {
      "cell_type": "code",
      "source": [
        "#2.\tKeyboard Input\n",
        "\n",
        "def calculate_area_interactive():\n",
        "        length = float(input(\"Enter rectangle length: \"))\n",
        "        width = float(input(\"Enter rectangle width: \"))\n",
        "        if length <= 0 or width <= 0:\n",
        "            raise ValueError(\"Dimensions must be positive numbers\")\n",
        "        else:\n",
        "            area = length * width\n",
        "            print(f\"\\nCalculation Results:\")\n",
        "            print(f\"Rectangle Area with length {length} and width: {width} is {area} square units\")\n",
        "\n",
        "            return area\n",
        "\n",
        "calculate_area_interactive()"
      ],
      "metadata": {
        "colab": {
          "base_uri": "https://localhost:8080/"
        },
        "id": "ojK_HRu8ojyy",
        "outputId": "95dd38e4-b77e-4ddb-e27c-3a6f8eff026d"
      },
      "execution_count": null,
      "outputs": [
        {
          "output_type": "stream",
          "name": "stdout",
          "text": [
            "Enter rectangle length: 7\n",
            "Enter rectangle width: 3\n",
            "\n",
            "Calculation Results:\n",
            "Rectangle Area with length 7.0 and width: 3.0 is 21.0 square units\n"
          ]
        },
        {
          "output_type": "execute_result",
          "data": {
            "text/plain": [
              "21.0"
            ]
          },
          "metadata": {},
          "execution_count": 37
        }
      ]
    },
    {
      "cell_type": "code",
      "source": [
        "#3.\tRead From File (Single Input)\n",
        "\n",
        "def read_single_input_from_file(filename):\n",
        "    try:\n",
        "        with open(filename, 'r') as file:\n",
        "            line = file.readline().strip()\n",
        "            length, width = map(float, line.split(','))\n",
        "\n",
        "            if length <= 0 or width <= 0:\n",
        "                raise ValueError(\"Dimensions must be positive numbers\")\n",
        "\n",
        "            return length, width\n",
        "\n",
        "    except FileNotFoundError:\n",
        "        print(f\"Error: File '{filename}' not found.\")\n",
        "        return None\n",
        "    except ValueError as e:\n",
        "        print(f\"Invalid input in file: {e}\")\n",
        "        return None\n",
        "\n",
        "def calculate_area_from_file(filename):\n",
        "    dimensions = read_single_input_from_file(filename)\n",
        "\n",
        "    if dimensions:\n",
        "        length, width = dimensions\n",
        "        area = length * width\n",
        "\n",
        "        print(f\"\\nFile Input Results:\")\n",
        "        print(f\"Rectangle Area: {length} * {width} = {area} square units\")\n",
        "\n",
        "        return area\n",
        "\n",
        "    return None\n",
        "\n",
        "filename = '/content/rectangle_input.txt'\n",
        "calculate_area_from_file(filename)"
      ],
      "metadata": {
        "colab": {
          "base_uri": "https://localhost:8080/"
        },
        "id": "ELdP0An3iz6d",
        "outputId": "89f6b797-94b4-4adc-ec44-920e3dceaa81"
      },
      "execution_count": null,
      "outputs": [
        {
          "output_type": "stream",
          "name": "stdout",
          "text": [
            "\n",
            "File Input Results:\n",
            "Rectangle Area: 15.5 * 7.3 = 113.14999999999999 square units\n"
          ]
        },
        {
          "output_type": "execute_result",
          "data": {
            "text/plain": [
              "113.14999999999999"
            ]
          },
          "metadata": {},
          "execution_count": 28
        }
      ]
    },
    {
      "cell_type": "code",
      "source": [
        "#4.\tRead From File (Multiple Inputs)\n",
        "\n",
        "def read_multiple_inputs_from_file(filename):\n",
        "    try:\n",
        "        with open(filename, 'r') as file:\n",
        "            inputs = [\n",
        "                tuple(map(float, line.strip().split(',')))\n",
        "                for line in file if line.strip()\n",
        "            ]\n",
        "\n",
        "            for length, width in inputs:\n",
        "                if length <= 0 or width <= 0:\n",
        "                    raise ValueError(\"All dimensions must be positive numbers\")\n",
        "            return inputs\n",
        "\n",
        "    except FileNotFoundError:\n",
        "        print(f\"Error: File '{filename}' not found.\")\n",
        "        return None\n",
        "    except ValueError as e:\n",
        "        print(f\"Invalid input in file: {e}\")\n",
        "        return None\n",
        "\n",
        "def calculate_areas_from_multiple_inputs(filename):\n",
        "    input_sets = read_multiple_inputs_from_file(filename)\n",
        "\n",
        "    if input_sets:\n",
        "        print(\"\\nMultiple Input Results:\\n\")\n",
        "        results = []\n",
        "\n",
        "        for index, (length, width) in enumerate(input_sets, 1):\n",
        "            area = length * width\n",
        "            results.append(area)\n",
        "            print(f\"The area of Rectangle {index} with length {length} and width {width} is: {area} square units\\n\")\n",
        "\n",
        "        return results\n",
        "    return None\n",
        "\n",
        "filename = '/content/multiple_rectangle_inputs.txt'\n",
        "calculate_areas_from_multiple_inputs(filename)"
      ],
      "metadata": {
        "colab": {
          "base_uri": "https://localhost:8080/"
        },
        "id": "7NVxhFBki2wx",
        "outputId": "56423683-fd03-4277-e598-c311b0954413"
      },
      "execution_count": null,
      "outputs": [
        {
          "output_type": "stream",
          "name": "stdout",
          "text": [
            "\n",
            "Multiple Input Results:\n",
            "\n",
            "The area of Rectangle 1 with length 15.5 and width 7.3 is: 113.14999999999999 square units\n",
            "\n",
            "The area of Rectangle 2 with length 10.2 and width 6.7 is: 68.34 square units\n",
            "\n",
            "The area of Rectangle 3 with length 20.1 and width 8.4 is: 168.84000000000003 square units\n",
            "\n"
          ]
        },
        {
          "output_type": "execute_result",
          "data": {
            "text/plain": [
              "[113.14999999999999, 68.34, 168.84000000000003]"
            ]
          },
          "metadata": {},
          "execution_count": 35
        }
      ]
    },
    {
      "cell_type": "code",
      "source": [],
      "metadata": {
        "id": "7zwoi4gEi-LJ"
      },
      "execution_count": null,
      "outputs": []
    }
  ]
}